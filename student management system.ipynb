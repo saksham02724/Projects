{
 "cells": [
  {
   "cell_type": "code",
   "execution_count": 1,
   "id": "0d9b96c1-49d8-4a0b-9274-f42e5e8c55cf",
   "metadata": {},
   "outputs": [
    {
     "name": "stdin",
     "output_type": "stream",
     "text": [
      "enter number 5\n"
     ]
    },
    {
     "name": "stdout",
     "output_type": "stream",
     "text": [
      "    *\n",
      "   ***\n",
      "  *****\n",
      " *******\n",
      "*********\n"
     ]
    }
   ],
   "source": [
    "a=int(input(\"enter number\"))\n",
    "for i in range(1,a+1):\n",
    "    print(\" \"*(a-i)+\"*\"*(2*i-1))\n"
   ]
  },
  {
   "cell_type": "code",
   "execution_count": 5,
   "id": "0906995f-7ba2-472c-b5be-5a54aced2dc0",
   "metadata": {},
   "outputs": [
    {
     "name": "stdout",
     "output_type": "stream",
     "text": [
      "10\n",
      "9\n",
      "8\n",
      "7\n",
      "6\n",
      "5\n",
      "4\n",
      "3\n",
      "2\n",
      "1\n"
     ]
    }
   ],
   "source": [
    "a=10\n",
    "while (a>0):\n",
    "    print(a)\n",
    "    a=a-1"
   ]
  },
  {
   "cell_type": "code",
   "execution_count": 3,
   "id": "e29bcb5a-1f61-4b70-b7ab-29d0c56e9d11",
   "metadata": {},
   "outputs": [
    {
     "name": "stdout",
     "output_type": "stream",
     "text": [
      "2 x 1 = 2\n",
      "2 x 2 = 4\n",
      "2 x 3 = 6\n",
      "2 x 4 = 8\n",
      "2 x 5 = 10\n",
      "2 x 6 = 12\n",
      "2 x 7 = 14\n",
      "2 x 8 = 16\n",
      "2 x 9 = 18\n",
      "2 x 10 = 20\n"
     ]
    }
   ],
   "source": [
    "a=2\n",
    "b=1\n",
    "while(b<=10):\n",
    "    print(a,\"x\",b,\"=\",a*b)\n",
    "    b=b+1\n"
   ]
  },
  {
   "cell_type": "code",
   "execution_count": 6,
   "id": "d4b3ed8e-4124-46e1-ab81-a275429361b9",
   "metadata": {},
   "outputs": [
    {
     "name": "stdin",
     "output_type": "stream",
     "text": [
      "enter a number 5\n"
     ]
    },
    {
     "name": "stdout",
     "output_type": "stream",
     "text": [
      "    *\n",
      "    ***\n",
      "    *****\n",
      "    *******\n",
      "    *********\n"
     ]
    }
   ],
   "source": [
    "a=int(input(\"enter a number\"))\n",
    "i=1\n",
    "while i<=a:\n",
    "    print(\" \"*(a-1)+\"*\"*(2*i-1))\n",
    "    i=i+1"
   ]
  },
  {
   "cell_type": "code",
   "execution_count": 10,
   "id": "50ed59a2-2f57-4527-be0a-2af2afdf244c",
   "metadata": {},
   "outputs": [
    {
     "name": "stdout",
     "output_type": "stream",
     "text": [
      "[1, 2, 3, 4]\n"
     ]
    }
   ],
   "source": [
    "a=[1,2,3,4,4,3,2,1]\n",
    "b=list(set(a))\n",
    "print(b)"
   ]
  },
  {
   "cell_type": "code",
   "execution_count": 1,
   "id": "a75ef97f-b161-43d7-9c1a-a139f9286d85",
   "metadata": {},
   "outputs": [
    {
     "name": "stdout",
     "output_type": "stream",
     "text": [
      "original List [1, 2, 3, 4, 5, 4, 3, 2, 1]\n",
      "list after remove [1, 2, 3, 4, 5]\n"
     ]
    }
   ],
   "source": [
    "a=[1,2,3,4,5,4,3,2,1]\n",
    "b=[]\n",
    "for item in a:\n",
    "    if item not in b:\n",
    "            b.append(item)\n",
    "print(\"original List\",a)\n",
    "print(\"list after remove\",b)"
   ]
  },
  {
   "cell_type": "code",
   "execution_count": 1,
   "id": "f80ec102-ec1d-4ab4-8e6d-0aab77fc84da",
   "metadata": {},
   "outputs": [
    {
     "name": "stdout",
     "output_type": "stream",
     "text": [
      "\n",
      "--- Student Management System ---\n",
      "1. Add Student\n",
      "2. View All Students\n",
      "3. Search for a Student\n",
      "4. Update Student Details\n",
      "5. Delete a Student\n",
      "6. Exit\n"
     ]
    },
    {
     "name": "stdin",
     "output_type": "stream",
     "text": [
      "Enter your choice:  6\n"
     ]
    },
    {
     "name": "stdout",
     "output_type": "stream",
     "text": [
      "Exiting the system. Goodbye!\n"
     ]
    }
   ],
   "source": [
    "# Data storage\n",
    "students = []  # List to store all student records\n",
    "\n",
    "# Main Menu\n",
    "while True:\n",
    "    print(\"\\n--- Student Management System ---\")\n",
    "    print(\"1. Add Student\")\n",
    "    print(\"2. View All Students\")\n",
    "    print(\"3. Search for a Student\")\n",
    "    print(\"4. Update Student Details\")\n",
    "    print(\"5. Delete a Student\")\n",
    "    print(\"6. Exit\")\n",
    "\n",
    "    choice = input(\"Enter your choice: \")\n",
    "\n",
    "    if choice == \"1\":  # Add Student\n",
    "        student_id = input(\"Enter Student ID: \")\n",
    "        # Check if the ID already exists\n",
    "        id_exists = any(student['ID'] == student_id for student in students)\n",
    "        if id_exists:\n",
    "            print(\"Student ID already exists. Try again!\")\n",
    "            continue\n",
    "\n",
    "        name = input(\"Enter Student Name: \")\n",
    "        age = int(input(\"Enter Student Age: \"))\n",
    "        courses = set(input(\"Enter courses (comma-separated): \").split(\",\"))\n",
    "        \n",
    "        # Create a dictionary for the student\n",
    "        student = {\"ID\": student_id, \"Name\": name, \"Age\": age, \"Courses\": courses}\n",
    "        students.append(student)  # Add the student dictionary to the list\n",
    "        print(\"Student added successfully!\")\n",
    "\n",
    "    elif choice == \"2\":  # View All Students\n",
    "        if not students:\n",
    "            print(\"No students in the system.\")\n",
    "        else:\n",
    "            print(\"\\n--- Student Records ---\")\n",
    "            for student in students:\n",
    "                print(f\"ID: {student['ID']}, Name: {student['Name']}, Age: {student['Age']}, Courses: {', '.join(student['Courses'])}\")\n",
    "\n",
    "    elif choice == \"3\":  # Search for a Student\n",
    "        search_id = input(\"Enter Student ID to search: \")\n",
    "        found = False\n",
    "        for student in students:\n",
    "            if student['ID'] == search_id:\n",
    "                print(\"\\n--- Student Found ---\")\n",
    "                print(f\"ID: {student['ID']}, Name: {student['Name']}, Age: {student['Age']}, Courses: {', '.join(student['Courses'])}\")\n",
    "                found = True\n",
    "                break\n",
    "        if not found:\n",
    "            print(\"Student not found.\")\n",
    "\n",
    "    elif choice == \"4\":  # Update Student Details\n",
    "        update_id = input(\"Enter Student ID to update: \")\n",
    "        found = False\n",
    "        for student in students:\n",
    "            if student['ID'] == update_id:\n",
    "                print(\"\\n--- Update Options ---\")\n",
    "                print(\"1. Update Name\")\n",
    "                print(\"2. Update Age\")\n",
    "                print(\"3. Update Courses\")\n",
    "                update_choice = input(\"Enter your choice: \")\n",
    "\n",
    "                if update_choice == \"1\":\n",
    "                    student['Name'] = input(\"Enter new name: \")\n",
    "                    print(\"Name updated successfully!\")\n",
    "                elif update_choice == \"2\":\n",
    "                    student['Age'] = int(input(\"Enter new age: \"))\n",
    "                    print(\"Age updated successfully!\")\n",
    "                elif update_choice == \"3\":\n",
    "                    student['Courses'] = set(input(\"Enter new courses (comma-separated): \").split(\",\"))\n",
    "                    print(\"Courses updated successfully!\")\n",
    "                else:\n",
    "                    print(\"Invalid choice.\")\n",
    "                found = True\n",
    "                break\n",
    "        if not found:\n",
    "            print(\"Student ID not found.\")\n",
    "\n",
    "    elif choice == \"5\":  # Delete a Student\n",
    "        delete_id = input(\"Enter Student ID to delete: \")\n",
    "        found = False\n",
    "        for student in students:\n",
    "            if student['ID'] == delete_id:\n",
    "                students.remove(student)\n",
    "                print(\"Student deleted successfully!\")\n",
    "                found = True\n",
    "                break\n",
    "        if not found:\n",
    "            print(\"Student ID not found.\")\n",
    "\n",
    "    elif choice == \"6\":  # Exit\n",
    "        print(\"Exiting the system. Goodbye!\")\n",
    "        break\n",
    "\n",
    "    else:\n",
    "        print(\"Invalid choice. Please try again.\")\n"
   ]
  },
  {
   "cell_type": "code",
   "execution_count": null,
   "id": "34b7bc5a-be14-46ae-8567-5550f92ebf06",
   "metadata": {},
   "outputs": [],
   "source": []
  }
 ],
 "metadata": {
  "kernelspec": {
   "display_name": "Python 3 (ipykernel)",
   "language": "python",
   "name": "python3"
  },
  "language_info": {
   "codemirror_mode": {
    "name": "ipython",
    "version": 3
   },
   "file_extension": ".py",
   "mimetype": "text/x-python",
   "name": "python",
   "nbconvert_exporter": "python",
   "pygments_lexer": "ipython3",
   "version": "3.12.7"
  }
 },
 "nbformat": 4,
 "nbformat_minor": 5
}
